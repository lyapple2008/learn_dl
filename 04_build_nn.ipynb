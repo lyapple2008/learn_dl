{
 "cells": [
  {
   "cell_type": "markdown",
   "metadata": {},
   "source": [
    "# https://pytorch.org/tutorials/beginner/basics/buildmodel_tutorial.html"
   ]
  },
  {
   "cell_type": "code",
   "execution_count": 1,
   "metadata": {},
   "outputs": [],
   "source": [
    "import os\n",
    "import torch\n",
    "from torch import nn\n",
    "from torch.utils.data import DataLoader\n",
    "from torchvision import datasets, transforms"
   ]
  },
  {
   "cell_type": "code",
   "execution_count": 2,
   "metadata": {},
   "outputs": [
    {
     "name": "stdout",
     "output_type": "stream",
     "text": [
      "Using mps device\n"
     ]
    }
   ],
   "source": [
    "device = (\n",
    "    \"cuda\"\n",
    "    if torch.cuda.is_available()\n",
    "    else \"mps\"\n",
    "    if torch.backends.mps.is_available()\n",
    "    else \"cpu\"\n",
    ")\n",
    "print(f\"Using {device} device\")"
   ]
  },
  {
   "cell_type": "code",
   "execution_count": 5,
   "metadata": {},
   "outputs": [],
   "source": [
    "class NeuralNetwork(nn.Module):\n",
    "    def __init__(self, *args, **kwargs) -> None:\n",
    "        super().__init__(*args, **kwargs)\n",
    "        self.flatten = nn.Flatten()\n",
    "        self.linear_relu_stack = nn.Sequential(\n",
    "            nn.Linear(28*28, 512),\n",
    "            nn.ReLU(),\n",
    "            nn.Linear(512, 512),\n",
    "            nn.ReLU(),\n",
    "            nn.Linear(512, 10),\n",
    "        )\n",
    "\n",
    "    def forward(self, x):\n",
    "        x = self.flatten(x)\n",
    "        logits = self.linear_relu_stack(x)\n",
    "        return logits"
   ]
  },
  {
   "cell_type": "code",
   "execution_count": 6,
   "metadata": {},
   "outputs": [
    {
     "name": "stdout",
     "output_type": "stream",
     "text": [
      "NeuralNetwork(\n",
      "  (flatten): Flatten(start_dim=1, end_dim=-1)\n",
      "  (linear_relu_stack): Sequential(\n",
      "    (0): Linear(in_features=784, out_features=512, bias=True)\n",
      "    (1): ReLU()\n",
      "    (2): Linear(in_features=512, out_features=512, bias=True)\n",
      "    (3): ReLU()\n",
      "    (4): Linear(in_features=512, out_features=10, bias=True)\n",
      "  )\n",
      ")\n"
     ]
    }
   ],
   "source": [
    "model = NeuralNetwork().to(device)\n",
    "print(model)"
   ]
  },
  {
   "cell_type": "code",
   "execution_count": 12,
   "metadata": {},
   "outputs": [
    {
     "name": "stdout",
     "output_type": "stream",
     "text": [
      "tensor([[-0.0545, -0.0017, -0.0593, -0.1051,  0.0057, -0.0304, -0.1319,  0.1116,\n",
      "         -0.0419,  0.0139]], device='mps:0', grad_fn=<LinearBackward0>)\n",
      "torch.Size([1, 10])\n",
      "tensor([[0.0973, 0.1026, 0.0968, 0.0925, 0.1033, 0.0997, 0.0901, 0.1149, 0.0985,\n",
      "         0.1042]], device='mps:0', grad_fn=<SoftmaxBackward0>)\n",
      "Predicted class: tensor([7], device='mps:0')\n"
     ]
    }
   ],
   "source": [
    "X = torch.rand(1, 28, 28, device=device)\n",
    "logits = model(X)\n",
    "print(logits)\n",
    "print(logits.shape)\n",
    "pred_probab = nn.Softmax(dim=1)(logits)\n",
    "print(pred_probab)\n",
    "y_pred = pred_probab.argmax(1)\n",
    "print(f\"Predicted class: {y_pred}\")"
   ]
  },
  {
   "cell_type": "code",
   "execution_count": 15,
   "metadata": {},
   "outputs": [
    {
     "name": "stdout",
     "output_type": "stream",
     "text": [
      "Model structure: NeuralNetwork(\n",
      "  (flatten): Flatten(start_dim=1, end_dim=-1)\n",
      "  (linear_relu_stack): Sequential(\n",
      "    (0): Linear(in_features=784, out_features=512, bias=True)\n",
      "    (1): ReLU()\n",
      "    (2): Linear(in_features=512, out_features=512, bias=True)\n",
      "    (3): ReLU()\n",
      "    (4): Linear(in_features=512, out_features=10, bias=True)\n",
      "  )\n",
      ")\n",
      "\n",
      "\n",
      "Layer: linear_relu_stack.0.weight | size: torch.Size([512, 784]) | Values : tensor([[-0.0117,  0.0280, -0.0087,  ...,  0.0153,  0.0328, -0.0100],\n",
      "        [ 0.0295,  0.0353,  0.0226,  ..., -0.0049, -0.0199,  0.0139]],\n",
      "       device='mps:0', grad_fn=<SliceBackward0>)\n",
      "Layer: linear_relu_stack.0.bias | size: torch.Size([512]) | Values : tensor([-0.0243,  0.0196], device='mps:0', grad_fn=<SliceBackward0>)\n",
      "Layer: linear_relu_stack.2.weight | size: torch.Size([512, 512]) | Values : tensor([[ 0.0196,  0.0231,  0.0341,  ...,  0.0281, -0.0123, -0.0340],\n",
      "        [ 0.0312, -0.0307,  0.0017,  ..., -0.0080, -0.0073, -0.0220]],\n",
      "       device='mps:0', grad_fn=<SliceBackward0>)\n",
      "Layer: linear_relu_stack.2.bias | size: torch.Size([512]) | Values : tensor([-0.0344, -0.0033], device='mps:0', grad_fn=<SliceBackward0>)\n",
      "Layer: linear_relu_stack.4.weight | size: torch.Size([10, 512]) | Values : tensor([[ 0.0016, -0.0219,  0.0081,  ..., -0.0331, -0.0037,  0.0178],\n",
      "        [-0.0009,  0.0019,  0.0304,  ...,  0.0199,  0.0386, -0.0006]],\n",
      "       device='mps:0', grad_fn=<SliceBackward0>)\n",
      "Layer: linear_relu_stack.4.bias | size: torch.Size([10]) | Values : tensor([ 0.0179, -0.0135], device='mps:0', grad_fn=<SliceBackward0>)\n"
     ]
    }
   ],
   "source": [
    "print(f\"Model structure: {model}\\n\\n\")\n",
    "\n",
    "for name, param in model.named_parameters():\n",
    "    print(f\"Layer: {name} | size: {param.size()} | Values : {param[:2]}\")"
   ]
  }
 ],
 "metadata": {
  "kernelspec": {
   "display_name": "torch",
   "language": "python",
   "name": "python3"
  },
  "language_info": {
   "codemirror_mode": {
    "name": "ipython",
    "version": 3
   },
   "file_extension": ".py",
   "mimetype": "text/x-python",
   "name": "python",
   "nbconvert_exporter": "python",
   "pygments_lexer": "ipython3",
   "version": "3.12.4"
  }
 },
 "nbformat": 4,
 "nbformat_minor": 2
}
