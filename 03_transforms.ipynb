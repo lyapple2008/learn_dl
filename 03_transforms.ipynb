{
 "cells": [
  {
   "cell_type": "markdown",
   "metadata": {},
   "source": [
    "# https://pytorch.org/tutorials/beginner/basics/transforms_tutorial.html"
   ]
  },
  {
   "cell_type": "code",
   "execution_count": 1,
   "metadata": {},
   "outputs": [],
   "source": [
    "import torch\n",
    "from torchvision import datasets\n",
    "from torchvision.transforms import ToTensor, Lambda\n",
    "\n",
    "ds = datasets.FashionMNIST(\n",
    "    root=\"data\",\n",
    "    train=True,\n",
    "    download=True,\n",
    "    transform=ToTensor(),\n",
    "    target_transform=Lambda(lambda y: torch.zeros(10, dtype=torch.float).scatter_(0, torch.tensor(y), value=1))\n",
    ")"
   ]
  },
  {
   "cell_type": "code",
   "execution_count": 11,
   "metadata": {},
   "outputs": [
    {
     "name": "stdout",
     "output_type": "stream",
     "text": [
      "tensor([0., 0., 0., 0., 0., 0., 1., 0., 0., 0.])\n",
      "tensor([[0, 1, 2]])\n",
      "tensor([[2., 0., 0., 0., 0.],\n",
      "        [0., 2., 0., 0., 0.],\n",
      "        [0., 0., 2., 0., 0.]])\n"
     ]
    }
   ],
   "source": [
    "t = torch.zeros(10, dtype=torch.float).scatter_(0, torch.tensor(6), value=1)\n",
    "print(t)\n",
    "\n",
    "index = torch.tensor([[0, 1, 2]])\n",
    "value = 2\n",
    "new_tensor = torch.zeros(3, 5).scatter_(0, index, value)\n",
    "print(index)\n",
    "print(new_tensor)"
   ]
  }
 ],
 "metadata": {
  "kernelspec": {
   "display_name": "torch",
   "language": "python",
   "name": "python3"
  },
  "language_info": {
   "codemirror_mode": {
    "name": "ipython",
    "version": 3
   },
   "file_extension": ".py",
   "mimetype": "text/x-python",
   "name": "python",
   "nbconvert_exporter": "python",
   "pygments_lexer": "ipython3",
   "version": "3.12.4"
  }
 },
 "nbformat": 4,
 "nbformat_minor": 2
}
